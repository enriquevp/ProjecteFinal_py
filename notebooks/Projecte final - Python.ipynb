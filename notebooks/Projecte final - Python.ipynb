{
 "cells": [
  {
   "cell_type": "markdown",
   "metadata": {},
   "source": [
    "# Projecte Final - Python"
   ]
  },
  {
   "cell_type": "code",
   "execution_count": 2,
   "metadata": {
    "collapsed": true
   },
   "outputs": [],
   "source": [
    "import TwitterSentimentAnalysis as tsa\n",
    "import TwitterSentimentAnalysis.data_processing as dp\n",
    "import nltk\n",
    "import pickle\n",
    "from nltk.tokenize import word_tokenize\n",
    "from nltk.corpus import stopwords"
   ]
  },
  {
   "cell_type": "code",
   "execution_count": 2,
   "metadata": {
    "collapsed": true
   },
   "outputs": [],
   "source": [
    "df_train, df_test = tsa.data_processing.load_data()"
   ]
  },
  {
   "cell_type": "markdown",
   "metadata": {},
   "source": [
    "## Arreglando el texto"
   ]
  },
  {
   "cell_type": "markdown",
   "metadata": {},
   "source": [
    "Revisando el texto, podemos ver que hay varias anomalías en el texto que se deben arreglar:\n",
    "\n",
    "1. Hay 'whitespace' extra en algunos de los tweets.\n",
    "2. Existens secuencias / carácteres anómalos como \"&lt----\" y \"&quot;\" en algunos tweets."
   ]
  },
  {
   "cell_type": "code",
   "execution_count": 3,
   "metadata": {
    "collapsed": true
   },
   "outputs": [],
   "source": [
    "df_train = df_train.replace('&quot;', \"'\", regex=True)\n",
    "df_train = df_train.replace('&lt-+', \"\", regex=True)\n",
    "\n",
    "df_test = df_test.replace('&quot;', \"'\", regex=True)\n",
    "df_test = df_test.replace('&lt-+', \"\", regex=True)"
   ]
  },
  {
   "cell_type": "code",
   "execution_count": 4,
   "metadata": {
    "collapsed": true
   },
   "outputs": [],
   "source": [
    "df_train['SentimentText'] = df_train['SentimentText'].map(lambda x: x.strip())\n",
    "df_test['SentimentText'] = df_test['SentimentText'].map(lambda x: x.strip())"
   ]
  },
  {
   "cell_type": "markdown",
   "metadata": {},
   "source": [
    "## Extrayendo características"
   ]
  },
  {
   "cell_type": "markdown",
   "metadata": {},
   "source": [
    "Se debería revisar el tokenizador utilizado, algunas de las features conservan signos de puntuación añadidos.\n",
    "\n",
    "Además sería ideal separar las características en sets positivos y negativos."
   ]
  },
  {
   "cell_type": "code",
   "execution_count": 9,
   "metadata": {},
   "outputs": [
    {
     "ename": "NameError",
     "evalue": "name 'df_train' is not defined",
     "output_type": "error",
     "traceback": [
      "\u001b[0;31m---------------------------------------------------------------------------\u001b[0m",
      "\u001b[0;31mNameError\u001b[0m                                 Traceback (most recent call last)",
      "\u001b[0;32m<ipython-input-9-87ee29955954>\u001b[0m in \u001b[0;36m<module>\u001b[0;34m()\u001b[0m\n\u001b[0;32m----> 1\u001b[0;31m \u001b[0mall_words\u001b[0m \u001b[0;34m=\u001b[0m \u001b[0mdp\u001b[0m\u001b[0;34m.\u001b[0m\u001b[0mget_tweets_words\u001b[0m\u001b[0;34m(\u001b[0m\u001b[0mdf_train\u001b[0m\u001b[0;34m)\u001b[0m\u001b[0;34m\u001b[0m\u001b[0m\n\u001b[0m",
      "\u001b[0;31mNameError\u001b[0m: name 'df_train' is not defined"
     ]
    }
   ],
   "source": [
    "all_words = dp.get_tweets_words(df_train)"
   ]
  },
  {
   "cell_type": "code",
   "execution_count": 8,
   "metadata": {},
   "outputs": [
    {
     "ename": "NameError",
     "evalue": "name 'all_words' is not defined",
     "output_type": "error",
     "traceback": [
      "\u001b[0;31m---------------------------------------------------------------------------\u001b[0m",
      "\u001b[0;31mNameError\u001b[0m                                 Traceback (most recent call last)",
      "\u001b[0;32m<ipython-input-8-221a68147e1f>\u001b[0m in \u001b[0;36m<module>\u001b[0;34m()\u001b[0m\n\u001b[1;32m      1\u001b[0m \u001b[0;31m# Filtrado de palabras sin significado como artículos, determinantes...\u001b[0m\u001b[0;34m\u001b[0m\u001b[0;34m\u001b[0m\u001b[0m\n\u001b[1;32m      2\u001b[0m \u001b[0mstop_words\u001b[0m \u001b[0;34m=\u001b[0m \u001b[0mset\u001b[0m\u001b[0;34m(\u001b[0m\u001b[0mstopwords\u001b[0m\u001b[0;34m.\u001b[0m\u001b[0mwords\u001b[0m\u001b[0;34m(\u001b[0m\u001b[0;34m'english'\u001b[0m\u001b[0;34m)\u001b[0m\u001b[0;34m)\u001b[0m\u001b[0;34m\u001b[0m\u001b[0m\n\u001b[0;32m----> 3\u001b[0;31m \u001b[0mfeatures\u001b[0m \u001b[0;34m=\u001b[0m \u001b[0mdp\u001b[0m\u001b[0;34m.\u001b[0m\u001b[0mget_word_features\u001b[0m\u001b[0;34m(\u001b[0m\u001b[0mall_words\u001b[0m\u001b[0;34m)\u001b[0m\u001b[0;34m\u001b[0m\u001b[0m\n\u001b[0m\u001b[1;32m      4\u001b[0m \u001b[0mfiltered_features\u001b[0m \u001b[0;34m=\u001b[0m \u001b[0;34m[\u001b[0m\u001b[0mw\u001b[0m \u001b[0;32mfor\u001b[0m \u001b[0mw\u001b[0m \u001b[0;32min\u001b[0m \u001b[0mall_words\u001b[0m \u001b[0;32mif\u001b[0m \u001b[0;32mnot\u001b[0m \u001b[0mw\u001b[0m \u001b[0;32min\u001b[0m \u001b[0mstop_words\u001b[0m\u001b[0;34m]\u001b[0m\u001b[0;34m\u001b[0m\u001b[0m\n",
      "\u001b[0;31mNameError\u001b[0m: name 'all_words' is not defined"
     ]
    }
   ],
   "source": [
    "# Filtrado de palabras sin significado como artículos, determinantes...\n",
    "stop_words = set(stopwords.words('english'))\n",
    "features = dp.get_word_features(all_words)\n",
    "filtered_features = [w for w in all_words if not w in stop_words]"
   ]
  },
  {
   "cell_type": "code",
   "execution_count": 40,
   "metadata": {},
   "outputs": [
    {
     "name": "stdout",
     "output_type": "stream",
     "text": [
      "19357\n",
      "14261\n"
     ]
    }
   ],
   "source": [
    "print(len(all_words))\n",
    "print(len(filtered_features))"
   ]
  },
  {
   "cell_type": "code",
   "execution_count": 42,
   "metadata": {},
   "outputs": [
    {
     "data": {
      "text/html": [
       "<div>\n",
       "<table border=\"1\" class=\"dataframe\">\n",
       "  <thead>\n",
       "    <tr style=\"text-align: right;\">\n",
       "      <th></th>\n",
       "      <th>ItemID</th>\n",
       "      <th>Sentiment</th>\n",
       "      <th>SentimentSource</th>\n",
       "      <th>SentimentText</th>\n",
       "    </tr>\n",
       "  </thead>\n",
       "  <tbody>\n",
       "    <tr>\n",
       "      <th>1301</th>\n",
       "      <td>1302</td>\n",
       "      <td>1</td>\n",
       "      <td>Sentiment140</td>\n",
       "      <td>I AM BORED, and ew. My dog just killed an insect!</td>\n",
       "    </tr>\n",
       "    <tr>\n",
       "      <th>1302</th>\n",
       "      <td>1303</td>\n",
       "      <td>0</td>\n",
       "      <td>Sentiment140</td>\n",
       "      <td>i am crying you all a river...</td>\n",
       "    </tr>\n",
       "    <tr>\n",
       "      <th>1303</th>\n",
       "      <td>1304</td>\n",
       "      <td>1</td>\n",
       "      <td>Sentiment140</td>\n",
       "      <td>I am falling in love with Stockington - such a...</td>\n",
       "    </tr>\n",
       "    <tr>\n",
       "      <th>1304</th>\n",
       "      <td>1305</td>\n",
       "      <td>1</td>\n",
       "      <td>Sentiment140</td>\n",
       "      <td>i am musical today!</td>\n",
       "    </tr>\n",
       "    <tr>\n",
       "      <th>1305</th>\n",
       "      <td>1306</td>\n",
       "      <td>0</td>\n",
       "      <td>Sentiment140</td>\n",
       "      <td>I am not awake yet and I don't get to workout ...</td>\n",
       "    </tr>\n",
       "  </tbody>\n",
       "</table>\n",
       "</div>"
      ],
      "text/plain": [
       "      ItemID  Sentiment SentimentSource  \\\n",
       "1301    1302          1    Sentiment140   \n",
       "1302    1303          0    Sentiment140   \n",
       "1303    1304          1    Sentiment140   \n",
       "1304    1305          1    Sentiment140   \n",
       "1305    1306          0    Sentiment140   \n",
       "\n",
       "                                          SentimentText  \n",
       "1301  I AM BORED, and ew. My dog just killed an insect!  \n",
       "1302                     i am crying you all a river...  \n",
       "1303  I am falling in love with Stockington - such a...  \n",
       "1304                                i am musical today!  \n",
       "1305  I am not awake yet and I don't get to workout ...  "
      ]
     },
     "execution_count": 42,
     "metadata": {},
     "output_type": "execute_result"
    }
   ],
   "source": [
    "df_test.head()"
   ]
  },
  {
   "cell_type": "markdown",
   "metadata": {},
   "source": [
    "Viendo las \"features\" que nos quedan, aquello que se debe hacer es:\n",
    "\n",
    "1. 'Lemmatizing' de las features\n",
    "2. Filtrar NEs (Named Entities)"
   ]
  },
  {
   "cell_type": "code",
   "execution_count": 6,
   "metadata": {
    "collapsed": true
   },
   "outputs": [],
   "source": [
    "def extract_features(doc):\n",
    "    doc_words = set(doc)\n",
    "    features = {}\n",
    "    for word in filtered_features:\n",
    "        features['contains(%s)' % word] = (word in doc_words), \n",
    "    return features"
   ]
  },
  {
   "cell_type": "code",
   "execution_count": 10,
   "metadata": {
    "collapsed": true
   },
   "outputs": [],
   "source": [
    "train_tweets = dp.get_tweet_and_sentiment(df_test)"
   ]
  },
  {
   "cell_type": "code",
   "execution_count": 11,
   "metadata": {
    "collapsed": true
   },
   "outputs": [],
   "source": [
    "training_set = nltk.classify.apply_features(extract_features, train_tweets)"
   ]
  },
  {
   "cell_type": "markdown",
   "metadata": {},
   "source": [
    "## Entrenando un clasificador bayesiano ingenuo"
   ]
  },
  {
   "cell_type": "markdown",
   "metadata": {},
   "source": [
    "El clasificador bayesiano ingenuo (Naive Bayes) emplea el modelo \"bag-of-words\". Esto quiere decir que contará todas las palabras del documento a clasificar, y las comparará con las características ya etiquetadas. Cuantas más palabras del documento aparezcan en las características positivas, más probabilidad habrá de que sea clasificado como positivo."
   ]
  },
  {
   "cell_type": "code",
   "execution_count": 13,
   "metadata": {
    "collapsed": true
   },
   "outputs": [],
   "source": [
    "classifier = nltk.NaiveBayesClassifier.train(training_set)"
   ]
  },
  {
   "cell_type": "code",
   "execution_count": 3,
   "metadata": {},
   "outputs": [],
   "source": [
    "#Restaura el clasificador guardado\n",
    "classifier_f = open(\"naivebayes.pickle\", \"rb\")\n",
    "classifier = pickle.load(classifier_f)\n",
    "classifier_f.close()"
   ]
  },
  {
   "cell_type": "code",
   "execution_count": 10,
   "metadata": {},
   "outputs": [
    {
     "name": "stdout",
     "output_type": "stream",
     "text": [
      "Most Informative Features\n",
      "          contains(late) = (True,)             1 : 0      =      8.8 : 1.0\n",
      "     contains(beautiful) = (True,)             1 : 0      =      8.8 : 1.0\n",
      "       contains(excited) = (True,)             1 : 0      =      8.8 : 1.0\n",
      "       contains(Getting) = (True,)             1 : 0      =      8.8 : 1.0\n",
      "          contains(Good) = (True,)             1 : 0      =      8.8 : 1.0\n",
      "          contains(miss) = (True,)             0 : 1      =      8.3 : 1.0\n",
      "          contains(name) = (True,)             1 : 0      =      6.8 : 1.0\n",
      "       contains(Twitter) = (True,)             1 : 0      =      6.8 : 1.0\n",
      "           contains(sun) = (True,)             1 : 0      =      6.8 : 1.0\n",
      "       contains(forward) = (True,)             1 : 0      =      6.8 : 1.0\n",
      "         contains(dance) = (True,)             1 : 0      =      6.8 : 1.0\n",
      "           contains(sad) = (True,)             0 : 1      =      6.7 : 1.0\n",
      "         contains(party) = (True,)             1 : 0      =      6.4 : 1.0\n",
      "          contains(cool) = (True,)             1 : 0      =      6.4 : 1.0\n",
      "          contains(love) = (True,)             1 : 0      =      6.0 : 1.0\n",
      "       contains(finally) = (True,)             1 : 0      =      5.5 : 1.0\n",
      "           contains(GOD) = (True,)             1 : 0      =      4.9 : 1.0\n",
      "     contains(afternoon) = (True,)             1 : 0      =      4.9 : 1.0\n",
      "           contains(web) = (True,)             1 : 0      =      4.9 : 1.0\n",
      "         contains(train) = (True,)             1 : 0      =      4.9 : 1.0\n",
      "        contains(shower) = (True,)             1 : 0      =      4.9 : 1.0\n",
      "        contains(london) = (True,)             1 : 0      =      4.9 : 1.0\n",
      "      contains(shopping) = (True,)             1 : 0      =      4.9 : 1.0\n",
      "     contains(followers) = (True,)             1 : 0      =      4.9 : 1.0\n",
      "         contains(songs) = (True,)             1 : 0      =      4.9 : 1.0\n",
      "            contains('d) = (True,)             1 : 0      =      4.9 : 1.0\n",
      "      contains(twitters) = (True,)             1 : 0      =      4.9 : 1.0\n",
      "       contains(looking) = (True,)             1 : 0      =      4.9 : 1.0\n",
      "            contains(Be) = (True,)             1 : 0      =      4.9 : 1.0\n",
      "         contains(Found) = (True,)             1 : 0      =      4.9 : 1.0\n",
      "           contains(hmm) = (True,)             1 : 0      =      4.9 : 1.0\n",
      "            contains(In) = (True,)             1 : 0      =      4.9 : 1.0\n",
      "        contains(family) = (True,)             1 : 0      =      4.9 : 1.0\n",
      "         contains(usual) = (True,)             1 : 0      =      4.9 : 1.0\n",
      "         contains(pizza) = (True,)             1 : 0      =      4.9 : 1.0\n",
      "       contains(content) = (True,)             1 : 0      =      4.9 : 1.0\n",
      "        contains(minute) = (True,)             1 : 0      =      4.9 : 1.0\n",
      "      contains(enjoying) = (True,)             1 : 0      =      4.9 : 1.0\n",
      "          contains(know) = (True,)             0 : 1      =      4.7 : 1.0\n",
      "         contains(happy) = (True,)             1 : 0      =      4.2 : 1.0\n",
      "          contains(work) = (True,)             0 : 1      =      4.1 : 1.0\n",
      "       contains(talking) = (True,)             1 : 0      =      4.1 : 1.0\n",
      "           contains(via) = (True,)             1 : 0      =      4.1 : 1.0\n",
      "           contains(YOU) = (True,)             1 : 0      =      4.1 : 1.0\n",
      "          contains(many) = (True,)             1 : 0      =      4.1 : 1.0\n",
      "        contains(follow) = (True,)             1 : 0      =      4.1 : 1.0\n",
      "         contains(awake) = (True,)             1 : 0      =      4.1 : 1.0\n",
      "            contains(xD) = (True,)             1 : 0      =      4.1 : 1.0\n",
      "          contains(mood) = (True,)             1 : 0      =      4.1 : 1.0\n",
      "         contains(great) = (True,)             1 : 0      =      4.1 : 1.0\n",
      "         contains(night) = (True,)             1 : 0      =      4.0 : 1.0\n",
      "          contains(good) = (True,)             1 : 0      =      3.9 : 1.0\n",
      "           contains(say) = (True,)             1 : 0      =      3.8 : 1.0\n",
      "       contains(morning) = (True,)             1 : 0      =      3.7 : 1.0\n",
      "       contains(tonight) = (True,)             1 : 0      =      3.7 : 1.0\n",
      "          contains(feel) = (True,)             0 : 1      =      3.6 : 1.0\n",
      "           contains(Now) = (True,)             1 : 0      =      3.6 : 1.0\n",
      "         contains(ready) = (True,)             1 : 0      =      3.6 : 1.0\n",
      "          contains(Just) = (True,)             1 : 0      =      3.6 : 1.0\n",
      "         contains(later) = (True,)             1 : 0      =      3.5 : 1.0\n",
      "          contains(nice) = (True,)             1 : 0      =      3.5 : 1.0\n",
      "          contains(dont) = (True,)             0 : 1      =      3.5 : 1.0\n",
      "          contains(wait) = (True,)             1 : 0      =      3.4 : 1.0\n",
      "             contains(u) = (True,)             1 : 0      =      3.4 : 1.0\n",
      "          contains(need) = (True,)             0 : 1      =      3.3 : 1.0\n",
      "       contains(twitter) = (True,)             1 : 0      =      3.3 : 1.0\n",
      "          contains(away) = (True,)             0 : 1      =      3.3 : 1.0\n",
      "         contains(tired) = (True,)             0 : 1      =      3.3 : 1.0\n",
      "          contains(http) = (True,)             1 : 0      =      3.3 : 1.0\n",
      "            contains(--) = (True,)             1 : 0      =      3.2 : 1.0\n",
      "          contains(last) = (True,)             0 : 1      =      3.2 : 1.0\n",
      "           contains(n't) = (True,)             0 : 1      =      3.1 : 1.0\n",
      "             contains(-) = (True,)             1 : 0      =      3.0 : 1.0\n",
      "          contains(load) = (True,)             1 : 0      =      2.9 : 1.0\n",
      "           contains(Lol) = (True,)             1 : 0      =      2.9 : 1.0\n",
      "             contains(1) = (True,)             1 : 0      =      2.9 : 1.0\n",
      "          contains(test) = (True,)             1 : 0      =      2.9 : 1.0\n",
      "       contains(mothers) = (True,)             1 : 0      =      2.9 : 1.0\n",
      "       contains(kitchen) = (True,)             1 : 0      =      2.9 : 1.0\n",
      "         contains(visit) = (True,)             1 : 0      =      2.9 : 1.0\n",
      "      contains(remember) = (True,)             1 : 0      =      2.9 : 1.0\n",
      "            contains(oh) = (True,)             1 : 0      =      2.9 : 1.0\n",
      "          contains(road) = (True,)             1 : 0      =      2.9 : 1.0\n",
      "           contains(btw) = (True,)             1 : 0      =      2.9 : 1.0\n",
      "          contains(star) = (True,)             1 : 0      =      2.9 : 1.0\n",
      "          contains(Awww) = (True,)             1 : 0      =      2.9 : 1.0\n",
      "           contains(Dad) = (True,)             1 : 0      =      2.9 : 1.0\n",
      "          contains(me..) = (True,)             1 : 0      =      2.9 : 1.0\n",
      "            contains(On) = (True,)             1 : 0      =      2.9 : 1.0\n",
      "          contains(youu) = (True,)             1 : 0      =      2.9 : 1.0\n",
      "          contains(june) = (True,)             1 : 0      =      2.9 : 1.0\n",
      "           contains(emo) = (True,)             1 : 0      =      2.9 : 1.0\n",
      "           contains(200) = (True,)             1 : 0      =      2.9 : 1.0\n",
      "        contains(thanks) = (True,)             1 : 0      =      2.9 : 1.0\n",
      "       contains(spanish) = (True,)             1 : 0      =      2.9 : 1.0\n",
      "           contains(ive) = (True,)             1 : 0      =      2.9 : 1.0\n",
      "      contains(birthday) = (True,)             1 : 0      =      2.9 : 1.0\n",
      "           contains(ily) = (True,)             1 : 0      =      2.9 : 1.0\n",
      "             contains(S) = (True,)             1 : 0      =      2.9 : 1.0\n",
      "        contains(guitar) = (True,)             1 : 0      =      2.9 : 1.0\n",
      "None\n"
     ]
    }
   ],
   "source": [
    "print(classifier.show_most_informative_features(100))"
   ]
  },
  {
   "cell_type": "code",
   "execution_count": 15,
   "metadata": {
    "collapsed": true
   },
   "outputs": [],
   "source": [
    "save_classifier = open(\"naivebayes.pickle\",\"wb\")\n",
    "pickle.dump(classifier, save_classifier)\n",
    "save_classifier.close()"
   ]
  },
  {
   "cell_type": "markdown",
   "metadata": {},
   "source": [
    "## Probando el clasificador nuevo"
   ]
  },
  {
   "cell_type": "markdown",
   "metadata": {},
   "source": [
    "TODO: Realizar métricas de clasificación."
   ]
  },
  {
   "cell_type": "code",
   "execution_count": 7,
   "metadata": {},
   "outputs": [
    {
     "ename": "NameError",
     "evalue": "name 'filtered_features' is not defined",
     "output_type": "error",
     "traceback": [
      "\u001b[0;31m---------------------------------------------------------------------------\u001b[0m",
      "\u001b[0;31mNameError\u001b[0m                                 Traceback (most recent call last)",
      "\u001b[0;32m<ipython-input-7-f4a47ab8b0e7>\u001b[0m in \u001b[0;36m<module>\u001b[0;34m()\u001b[0m\n\u001b[1;32m      1\u001b[0m \u001b[0mtweet\u001b[0m \u001b[0;34m=\u001b[0m \u001b[0;34m\"Mexico know work emotional\"\u001b[0m\u001b[0;34m\u001b[0m\u001b[0m\n\u001b[0;32m----> 2\u001b[0;31m \u001b[0mprint\u001b[0m\u001b[0;34m(\u001b[0m\u001b[0mclassifier\u001b[0m\u001b[0;34m.\u001b[0m\u001b[0mclassify\u001b[0m\u001b[0;34m(\u001b[0m\u001b[0mextract_features\u001b[0m\u001b[0;34m(\u001b[0m\u001b[0mtweet\u001b[0m\u001b[0;34m.\u001b[0m\u001b[0msplit\u001b[0m\u001b[0;34m(\u001b[0m\u001b[0;34m)\u001b[0m\u001b[0;34m)\u001b[0m\u001b[0;34m)\u001b[0m\u001b[0;34m)\u001b[0m\u001b[0;34m\u001b[0m\u001b[0m\n\u001b[0m\u001b[1;32m      3\u001b[0m \u001b[0mprint\u001b[0m\u001b[0;34m(\u001b[0m\u001b[0mextract_features\u001b[0m\u001b[0;34m(\u001b[0m\u001b[0mtweet\u001b[0m\u001b[0;34m.\u001b[0m\u001b[0msplit\u001b[0m\u001b[0;34m(\u001b[0m\u001b[0;34m)\u001b[0m\u001b[0;34m)\u001b[0m\u001b[0;34m)\u001b[0m\u001b[0;34m\u001b[0m\u001b[0m\n",
      "\u001b[0;32m<ipython-input-6-b6b3245500f8>\u001b[0m in \u001b[0;36mextract_features\u001b[0;34m(doc)\u001b[0m\n\u001b[1;32m      2\u001b[0m     \u001b[0mdoc_words\u001b[0m \u001b[0;34m=\u001b[0m \u001b[0mset\u001b[0m\u001b[0;34m(\u001b[0m\u001b[0mdoc\u001b[0m\u001b[0;34m)\u001b[0m\u001b[0;34m\u001b[0m\u001b[0m\n\u001b[1;32m      3\u001b[0m     \u001b[0mfeatures\u001b[0m \u001b[0;34m=\u001b[0m \u001b[0;34m{\u001b[0m\u001b[0;34m}\u001b[0m\u001b[0;34m\u001b[0m\u001b[0m\n\u001b[0;32m----> 4\u001b[0;31m     \u001b[0;32mfor\u001b[0m \u001b[0mword\u001b[0m \u001b[0;32min\u001b[0m \u001b[0mfiltered_features\u001b[0m\u001b[0;34m:\u001b[0m\u001b[0;34m\u001b[0m\u001b[0m\n\u001b[0m\u001b[1;32m      5\u001b[0m         \u001b[0mfeatures\u001b[0m\u001b[0;34m[\u001b[0m\u001b[0;34m'contains(%s)'\u001b[0m \u001b[0;34m%\u001b[0m \u001b[0mword\u001b[0m\u001b[0;34m]\u001b[0m \u001b[0;34m=\u001b[0m \u001b[0;34m(\u001b[0m\u001b[0mword\u001b[0m \u001b[0;32min\u001b[0m \u001b[0mdoc_words\u001b[0m\u001b[0;34m)\u001b[0m\u001b[0;34m,\u001b[0m\u001b[0;34m\u001b[0m\u001b[0m\n\u001b[1;32m      6\u001b[0m     \u001b[0;32mreturn\u001b[0m \u001b[0mfeatures\u001b[0m\u001b[0;34m\u001b[0m\u001b[0m\n",
      "\u001b[0;31mNameError\u001b[0m: name 'filtered_features' is not defined"
     ]
    }
   ],
   "source": [
    "tweet = \"Mexico know work emotional\" \n",
    "print(classifier.classify(extract_features(tweet.split())))\n",
    "print(extract_features(tweet.split()))"
   ]
  }
 ],
 "metadata": {
  "kernelspec": {
   "display_name": "Python [conda root]",
   "language": "python",
   "name": "conda-root-py"
  },
  "language_info": {
   "codemirror_mode": {
    "name": "ipython",
    "version": 3
   },
   "file_extension": ".py",
   "mimetype": "text/x-python",
   "name": "python",
   "nbconvert_exporter": "python",
   "pygments_lexer": "ipython3",
   "version": "3.5.2"
  }
 },
 "nbformat": 4,
 "nbformat_minor": 2
}
